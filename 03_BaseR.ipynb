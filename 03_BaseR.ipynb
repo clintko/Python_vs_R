{
 "cells": [
  {
   "cell_type": "markdown",
   "metadata": {},
   "source": [
    "# Base R (Some Data Operations)"
   ]
  },
  {
   "cell_type": "markdown",
   "metadata": {},
   "source": [
    "In this notebook, I recorded some operations on data set and compared them to Python pandas. We will also observe the data structure and values when passing a variable from R to python."
   ]
  },
  {
   "cell_type": "markdown",
   "metadata": {},
   "source": [
    "<a name=\"Outline\"></a>Below are the operations in R.\n",
    "- [Print the structure of the data set.](#PrintStruct)\n",
    "- [Print the column names and row names.](#PrintNames)\n",
    "- [Print 20 rows, selected randomly.](#Print20Rows)\n",
    "- [Create a matrix 'M' using the first 4 columns and all rows.](#CreateM)\n",
    "- [Select the second column of M, first as a vector, then as a matrix.](#Select2ndColumn)\n",
    "- [Replace all the entries of M with zeroes.](#SetEntriesZero)\n",
    "- [Replace M with the value 0.](#SetZero)\n",
    "- [Select the Species column from iris as a dataframe and then as a factor, storing the factor in a variable 'v'. Convert the column to a vector and store it in a variable 'w'. What is the difference between w and v?](#Factor_vs_Vector)\n",
    "- [For 'v' and 'w' above, try to add an element 'newspecies'. Describe what R did.](#AddElement)\n",
    "- [Add a column to iris that has the value of sepal width/sepal length and name it 'Sepal.Ratio'.](#AddColumn)"
   ]
  },
  {
   "cell_type": "code",
   "execution_count": 24,
   "metadata": {},
   "outputs": [
    {
     "name": "stdout",
     "output_type": "stream",
     "text": [
      "The rpy2.ipython extension is already loaded. To reload it, use:\n",
      "  %reload_ext rpy2.ipython\n"
     ]
    }
   ],
   "source": [
    "import numpy as np\n",
    "import numpy.random as random\n",
    "import pandas as pd\n",
    "\n",
    "%load_ext rpy2.ipython"
   ]
  },
  {
   "cell_type": "markdown",
   "metadata": {},
   "source": [
    "### <a name=\"PrintStruct\"></a>Print the structure of the data set.\n",
    "[[Back to Outline]](#Outline)"
   ]
  },
  {
   "cell_type": "code",
   "execution_count": 4,
   "metadata": {},
   "outputs": [
    {
     "data": {
      "text/plain": [
       "'data.frame':\t150 obs. of  5 variables:\n",
       " $ Sepal.Length: num  5.1 4.9 4.7 4.6 5 5.4 4.6 5 4.4 4.9 ...\n",
       " $ Sepal.Width : num  3.5 3 3.2 3.1 3.6 3.9 3.4 3.4 2.9 3.1 ...\n",
       " $ Petal.Length: num  1.4 1.4 1.3 1.5 1.4 1.7 1.4 1.5 1.4 1.5 ...\n",
       " $ Petal.Width : num  0.2 0.2 0.2 0.2 0.2 0.4 0.3 0.2 0.2 0.1 ...\n",
       " $ Species     : Factor w/ 3 levels \"setosa\",\"versicolor\",..: 1 1 1 1 1 1 1 1 1 1 ...\n"
      ]
     },
     "metadata": {},
     "output_type": "display_data"
    }
   ],
   "source": [
    "%%R\n",
    "data(iris)\n",
    "str(iris)"
   ]
  },
  {
   "cell_type": "code",
   "execution_count": 13,
   "metadata": {},
   "outputs": [
    {
     "data": {
      "text/html": [
       "<div>\n",
       "<style scoped>\n",
       "    .dataframe tbody tr th:only-of-type {\n",
       "        vertical-align: middle;\n",
       "    }\n",
       "\n",
       "    .dataframe tbody tr th {\n",
       "        vertical-align: top;\n",
       "    }\n",
       "\n",
       "    .dataframe thead th {\n",
       "        text-align: right;\n",
       "    }\n",
       "</style>\n",
       "<table border=\"1\" class=\"dataframe\">\n",
       "  <thead>\n",
       "    <tr style=\"text-align: right;\">\n",
       "      <th></th>\n",
       "      <th>Sepal.Length</th>\n",
       "      <th>Sepal.Width</th>\n",
       "      <th>Petal.Length</th>\n",
       "      <th>Petal.Width</th>\n",
       "    </tr>\n",
       "  </thead>\n",
       "  <tbody>\n",
       "    <tr>\n",
       "      <th>count</th>\n",
       "      <td>150.000000</td>\n",
       "      <td>150.000000</td>\n",
       "      <td>150.000000</td>\n",
       "      <td>150.000000</td>\n",
       "    </tr>\n",
       "    <tr>\n",
       "      <th>mean</th>\n",
       "      <td>5.843333</td>\n",
       "      <td>3.057333</td>\n",
       "      <td>3.758000</td>\n",
       "      <td>1.199333</td>\n",
       "    </tr>\n",
       "    <tr>\n",
       "      <th>std</th>\n",
       "      <td>0.828066</td>\n",
       "      <td>0.435866</td>\n",
       "      <td>1.765298</td>\n",
       "      <td>0.762238</td>\n",
       "    </tr>\n",
       "    <tr>\n",
       "      <th>min</th>\n",
       "      <td>4.300000</td>\n",
       "      <td>2.000000</td>\n",
       "      <td>1.000000</td>\n",
       "      <td>0.100000</td>\n",
       "    </tr>\n",
       "    <tr>\n",
       "      <th>25%</th>\n",
       "      <td>5.100000</td>\n",
       "      <td>2.800000</td>\n",
       "      <td>1.600000</td>\n",
       "      <td>0.300000</td>\n",
       "    </tr>\n",
       "    <tr>\n",
       "      <th>50%</th>\n",
       "      <td>5.800000</td>\n",
       "      <td>3.000000</td>\n",
       "      <td>4.350000</td>\n",
       "      <td>1.300000</td>\n",
       "    </tr>\n",
       "    <tr>\n",
       "      <th>75%</th>\n",
       "      <td>6.400000</td>\n",
       "      <td>3.300000</td>\n",
       "      <td>5.100000</td>\n",
       "      <td>1.800000</td>\n",
       "    </tr>\n",
       "    <tr>\n",
       "      <th>max</th>\n",
       "      <td>7.900000</td>\n",
       "      <td>4.400000</td>\n",
       "      <td>6.900000</td>\n",
       "      <td>2.500000</td>\n",
       "    </tr>\n",
       "  </tbody>\n",
       "</table>\n",
       "</div>"
      ],
      "text/plain": [
       "       Sepal.Length  Sepal.Width  Petal.Length  Petal.Width\n",
       "count    150.000000   150.000000    150.000000   150.000000\n",
       "mean       5.843333     3.057333      3.758000     1.199333\n",
       "std        0.828066     0.435866      1.765298     0.762238\n",
       "min        4.300000     2.000000      1.000000     0.100000\n",
       "25%        5.100000     2.800000      1.600000     0.300000\n",
       "50%        5.800000     3.000000      4.350000     1.300000\n",
       "75%        6.400000     3.300000      5.100000     1.800000\n",
       "max        7.900000     4.400000      6.900000     2.500000"
      ]
     },
     "execution_count": 13,
     "metadata": {},
     "output_type": "execute_result"
    }
   ],
   "source": [
    "##### Python #####\n",
    "iris = %R iris\n",
    "iris.describe()"
   ]
  },
  {
   "cell_type": "markdown",
   "metadata": {},
   "source": [
    "### <a name=\"PrintNames\"></a>Print the column names and row names.\n",
    "[[Back to Outline]](#Outline)"
   ]
  },
  {
   "cell_type": "code",
   "execution_count": 15,
   "metadata": {},
   "outputs": [
    {
     "data": {
      "text/plain": [
       " === column names ===\n",
       " Sepal.Length Sepal.Width Petal.Length Petal.Width Species \n",
       "\n",
       " === row names ===\n",
       " 1 2 3 4 5 6 7 8 9 10 11 12 13 14 15 16 17 18 19 20 21 22 23 24 25 26 27 28 29 30 31 32 33 34 35 36 37 38 39 40 41 42 43 44 45 46 47 48 49 50 51 52 53 54 55 56 57 58 59 60 61 62 63 64 65 66 67 68 69 70 71 72 73 74 75 76 77 78 79 80 81 82 83 84 85 86 87 88 89 90 91 92 93 94 95 96 97 98 99 100 101 102 103 104 105 106 107 108 109 110 111 112 113 114 115 116 117 118 119 120 121 122 123 124 125 126 127 128 129 130 131 132 133 134 135 136 137 138 139 140 141 142 143 144 145 146 147 148 149 150 \n"
      ]
     },
     "metadata": {},
     "output_type": "display_data"
    }
   ],
   "source": [
    "%%R\n",
    "cat(\"\",\n",
    "    \"=== column names ===\\n\", colnames(iris), \"\\n\\n\",\n",
    "    \"=== row names ===\\n\",    rownames(iris), \"\\n\")"
   ]
  },
  {
   "cell_type": "code",
   "execution_count": 20,
   "metadata": {},
   "outputs": [
    {
     "name": "stdout",
     "output_type": "stream",
     "text": [
      "=== column names ===\n",
      "Index(['Sepal.Length', 'Sepal.Width', 'Petal.Length', 'Petal.Width',\n",
      "       'Species'],\n",
      "      dtype='object')\n",
      "\n",
      "=== row names ===\n",
      "Int64Index([  1,   2,   3,   4,   5,   6,   7,   8,   9,  10,\n",
      "            ...\n",
      "            141, 142, 143, 144, 145, 146, 147, 148, 149, 150],\n",
      "           dtype='int64', length=150)\n"
     ]
    }
   ],
   "source": [
    "##### Python #####\n",
    "print(\"=== column names ===\")\n",
    "print(iris.columns)\n",
    "print(\"\\n=== row names ===\")\n",
    "print(iris.index)"
   ]
  },
  {
   "cell_type": "markdown",
   "metadata": {},
   "source": [
    "###  <a name=\"Print20Rows\"></a>Print 20 rows, selected randomly.\n",
    "[[Back to Outline]](#Outline)"
   ]
  },
  {
   "cell_type": "code",
   "execution_count": 21,
   "metadata": {
    "scrolled": true
   },
   "outputs": [
    {
     "data": {
      "text/plain": [
       "    Sepal.Length Sepal.Width Petal.Length Petal.Width    Species\n",
       "9            4.4         2.9          1.4         0.2     setosa\n",
       "17           5.4         3.9          1.3         0.4     setosa\n",
       "142          6.9         3.1          5.1         2.3  virginica\n",
       "85           5.4         3.0          4.5         1.5 versicolor\n",
       "8            5.0         3.4          1.5         0.2     setosa\n",
       "18           5.1         3.5          1.4         0.3     setosa\n",
       "86           6.0         3.4          4.5         1.6 versicolor\n",
       "1            5.1         3.5          1.4         0.2     setosa\n",
       "109          6.7         2.5          5.8         1.8  virginica\n",
       "45           5.1         3.8          1.9         0.4     setosa\n",
       "117          6.5         3.0          5.5         1.8  virginica\n",
       "70           5.6         2.5          3.9         1.1 versicolor\n",
       "116          6.4         3.2          5.3         2.3  virginica\n",
       "102          5.8         2.7          5.1         1.9  virginica\n",
       "68           5.8         2.7          4.1         1.0 versicolor\n",
       "27           5.0         3.4          1.6         0.4     setosa\n",
       "141          6.7         3.1          5.6         2.4  virginica\n",
       "28           5.2         3.5          1.5         0.2     setosa\n",
       "80           5.7         2.6          3.5         1.0 versicolor\n",
       "77           6.8         2.8          4.8         1.4 versicolor\n"
      ]
     },
     "metadata": {},
     "output_type": "display_data"
    }
   ],
   "source": [
    "%%R\n",
    "iris[sample(1:nrow(iris), 20),]"
   ]
  },
  {
   "cell_type": "code",
   "execution_count": 36,
   "metadata": {},
   "outputs": [
    {
     "name": "stdout",
     "output_type": "stream",
     "text": [
      "===== Select a row ===== \n",
      "Sepal.Length       5.1\n",
      "Sepal.Width        3.5\n",
      "Petal.Length       1.4\n",
      "Petal.Width        0.2\n",
      "Species         setosa\n",
      "Name: 1, dtype: object\n",
      "\n",
      "===== Select a row (drop = False) =====\n",
      "   Sepal.Length  Sepal.Width  Petal.Length  Petal.Width Species\n",
      "1           5.1          3.5           1.4          0.2  setosa\n",
      "\n",
      "===== Print 20 rows, selected randomly =====\n",
      "    Sepal.Length  Sepal.Width  Petal.Length  Petal.Width Species\n",
      "11           5.4          3.7           1.5          0.2  setosa\n",
      "7            4.6          3.4           1.4          0.3  setosa\n",
      "2            4.9          3.0           1.4          0.2  setosa\n",
      "16           5.7          4.4           1.5          0.4  setosa\n",
      "7            4.6          3.4           1.4          0.3  setosa\n",
      "18           5.1          3.5           1.4          0.3  setosa\n",
      "13           4.8          3.0           1.4          0.1  setosa\n",
      "18           5.1          3.5           1.4          0.3  setosa\n",
      "20           5.1          3.8           1.5          0.3  setosa\n",
      "5            5.0          3.6           1.4          0.2  setosa\n",
      "15           5.8          4.0           1.2          0.2  setosa\n",
      "6            5.4          3.9           1.7          0.4  setosa\n",
      "6            5.4          3.9           1.7          0.4  setosa\n",
      "4            4.6          3.1           1.5          0.2  setosa\n",
      "3            4.7          3.2           1.3          0.2  setosa\n",
      "12           4.8          3.4           1.6          0.2  setosa\n",
      "10           4.9          3.1           1.5          0.1  setosa\n",
      "3            4.7          3.2           1.3          0.2  setosa\n",
      "16           5.7          4.4           1.5          0.4  setosa\n",
      "7            4.6          3.4           1.4          0.3  setosa\n"
     ]
    }
   ],
   "source": [
    "##### Python #####\n",
    "print(\"===== Select a row ===== \")\n",
    "print(iris.iloc[0])\n",
    "\n",
    "print(\"\\n===== Select a row (drop = False) =====\")\n",
    "print(iris.iloc[[0]])\n",
    "\n",
    "print(\"\\n===== Print 20 rows, selected randomly =====\")\n",
    "print(iris.iloc[random.choice(range(20),size=20)])\n"
   ]
  },
  {
   "cell_type": "markdown",
   "metadata": {},
   "source": [
    "###  <a name=\"CreateM\"></a>Create a matrix 'M' using the first 4 columns and all rows.\n",
    "[[Back to Outline]](#Outline)"
   ]
  },
  {
   "cell_type": "code",
   "execution_count": 38,
   "metadata": {},
   "outputs": [
    {
     "data": {
      "text/plain": [
       "  Sepal.Length Sepal.Width Petal.Length Petal.Width\n",
       "1          5.1         3.5          1.4         0.2\n",
       "2          4.9         3.0          1.4         0.2\n",
       "3          4.7         3.2          1.3         0.2\n",
       "4          4.6         3.1          1.5         0.2\n",
       "5          5.0         3.6          1.4         0.2\n",
       "6          5.4         3.9          1.7         0.4\n"
      ]
     },
     "metadata": {},
     "output_type": "display_data"
    }
   ],
   "source": [
    "%%R\n",
    "M <- iris[, 1:4]\n",
    "head(M)"
   ]
  },
  {
   "cell_type": "code",
   "execution_count": 41,
   "metadata": {},
   "outputs": [
    {
     "data": {
      "text/html": [
       "<div>\n",
       "<style scoped>\n",
       "    .dataframe tbody tr th:only-of-type {\n",
       "        vertical-align: middle;\n",
       "    }\n",
       "\n",
       "    .dataframe tbody tr th {\n",
       "        vertical-align: top;\n",
       "    }\n",
       "\n",
       "    .dataframe thead th {\n",
       "        text-align: right;\n",
       "    }\n",
       "</style>\n",
       "<table border=\"1\" class=\"dataframe\">\n",
       "  <thead>\n",
       "    <tr style=\"text-align: right;\">\n",
       "      <th></th>\n",
       "      <th>Sepal.Length</th>\n",
       "      <th>Sepal.Width</th>\n",
       "      <th>Petal.Length</th>\n",
       "      <th>Petal.Width</th>\n",
       "    </tr>\n",
       "  </thead>\n",
       "  <tbody>\n",
       "    <tr>\n",
       "      <th>1</th>\n",
       "      <td>5.1</td>\n",
       "      <td>3.5</td>\n",
       "      <td>1.4</td>\n",
       "      <td>0.2</td>\n",
       "    </tr>\n",
       "    <tr>\n",
       "      <th>2</th>\n",
       "      <td>4.9</td>\n",
       "      <td>3.0</td>\n",
       "      <td>1.4</td>\n",
       "      <td>0.2</td>\n",
       "    </tr>\n",
       "    <tr>\n",
       "      <th>3</th>\n",
       "      <td>4.7</td>\n",
       "      <td>3.2</td>\n",
       "      <td>1.3</td>\n",
       "      <td>0.2</td>\n",
       "    </tr>\n",
       "    <tr>\n",
       "      <th>4</th>\n",
       "      <td>4.6</td>\n",
       "      <td>3.1</td>\n",
       "      <td>1.5</td>\n",
       "      <td>0.2</td>\n",
       "    </tr>\n",
       "    <tr>\n",
       "      <th>5</th>\n",
       "      <td>5.0</td>\n",
       "      <td>3.6</td>\n",
       "      <td>1.4</td>\n",
       "      <td>0.2</td>\n",
       "    </tr>\n",
       "    <tr>\n",
       "      <th>6</th>\n",
       "      <td>5.4</td>\n",
       "      <td>3.9</td>\n",
       "      <td>1.7</td>\n",
       "      <td>0.4</td>\n",
       "    </tr>\n",
       "  </tbody>\n",
       "</table>\n",
       "</div>"
      ],
      "text/plain": [
       "   Sepal.Length  Sepal.Width  Petal.Length  Petal.Width\n",
       "1           5.1          3.5           1.4          0.2\n",
       "2           4.9          3.0           1.4          0.2\n",
       "3           4.7          3.2           1.3          0.2\n",
       "4           4.6          3.1           1.5          0.2\n",
       "5           5.0          3.6           1.4          0.2\n",
       "6           5.4          3.9           1.7          0.4"
      ]
     },
     "execution_count": 41,
     "metadata": {},
     "output_type": "execute_result"
    }
   ],
   "source": [
    "M = iris.iloc[:, range(4)]\n",
    "M.head(6)"
   ]
  },
  {
   "cell_type": "markdown",
   "metadata": {},
   "source": [
    "###  <a name=\"Select2ndColumn\"></a>Select the second column of M, first as a vector, then as a matrix.\n",
    "[[Back to Outline]](#Outline)"
   ]
  },
  {
   "cell_type": "code",
   "execution_count": 51,
   "metadata": {},
   "outputs": [
    {
     "data": {
      "text/plain": [
       "[1] 3.5 3.0 3.2 3.1 3.6 3.9\n",
       "===================\n",
       "  Sepal.Width\n",
       "1         3.5\n",
       "2         3.0\n",
       "3         3.2\n",
       "4         3.1\n",
       "5         3.6\n",
       "6         3.9\n"
      ]
     },
     "metadata": {},
     "output_type": "display_data"
    }
   ],
   "source": [
    "%%R\n",
    "tmp <- M[, 2]\n",
    "print(head(tmp))\n",
    "cat(\"===================\\n\")\n",
    "tmp <- M[, 2, drop=FALSE]\n",
    "print(head(tmp))"
   ]
  },
  {
   "cell_type": "code",
   "execution_count": 65,
   "metadata": {},
   "outputs": [
    {
     "name": "stdout",
     "output_type": "stream",
     "text": [
      "1    3.5\n",
      "2    3.0\n",
      "3    3.2\n",
      "4    3.1\n",
      "5    3.6\n",
      "Name: Sepal.Width, dtype: float64\n",
      "Data Type: <class 'pandas.core.series.Series'>\n",
      "\n",
      "===================\n",
      "\n",
      "   Sepal.Width\n",
      "1          3.5\n",
      "2          3.0\n",
      "3          3.2\n",
      "4          3.1\n",
      "5          3.6\n",
      "Data Type: <class 'pandas.core.frame.DataFrame'>\n"
     ]
    }
   ],
   "source": [
    "##### Python ######\n",
    "tmp = M.iloc[:, 1]\n",
    "print(tmp.head())\n",
    "print(\"Data Type:\", type(tmp))\n",
    "print(\"\\n===================\\n\")\n",
    "tmp = M.iloc[:, [1]]\n",
    "print(tmp.head())\n",
    "print(\"Data Type:\", type(tmp))"
   ]
  },
  {
   "cell_type": "markdown",
   "metadata": {},
   "source": [
    "###  <a name=\"SetEntriesZero\"></a>Replace all the entries of M with zeroes.\n",
    "[[Back to Outline]](#Outline)"
   ]
  },
  {
   "cell_type": "code",
   "execution_count": 66,
   "metadata": {},
   "outputs": [
    {
     "data": {
      "text/plain": [
       "  Sepal.Length Sepal.Width Petal.Length Petal.Width\n",
       "1            0           0            0           0\n",
       "2            0           0            0           0\n",
       "3            0           0            0           0\n",
       "4            0           0            0           0\n",
       "5            0           0            0           0\n",
       "6            0           0            0           0\n"
      ]
     },
     "metadata": {},
     "output_type": "display_data"
    }
   ],
   "source": [
    "%%R\n",
    "M[] <- 0\n",
    "head(M)"
   ]
  },
  {
   "cell_type": "code",
   "execution_count": 102,
   "metadata": {},
   "outputs": [
    {
     "name": "stderr",
     "output_type": "stream",
     "text": [
      "/home/clint/anaconda3/lib/python3.6/site-packages/pandas/core/indexing.py:194: SettingWithCopyWarning: \n",
      "A value is trying to be set on a copy of a slice from a DataFrame\n",
      "\n",
      "See the caveats in the documentation: http://pandas.pydata.org/pandas-docs/stable/indexing.html#indexing-view-versus-copy\n",
      "  self._setitem_with_indexer(indexer, value)\n",
      "/home/clint/anaconda3/lib/python3.6/site-packages/ipykernel_launcher.py:3: SettingWithCopyWarning: \n",
      "A value is trying to be set on a copy of a slice from a DataFrame\n",
      "\n",
      "See the caveats in the documentation: http://pandas.pydata.org/pandas-docs/stable/indexing.html#indexing-view-versus-copy\n",
      "  This is separate from the ipykernel package so we can avoid doing imports until\n"
     ]
    },
    {
     "data": {
      "text/html": [
       "<div>\n",
       "<style scoped>\n",
       "    .dataframe tbody tr th:only-of-type {\n",
       "        vertical-align: middle;\n",
       "    }\n",
       "\n",
       "    .dataframe tbody tr th {\n",
       "        vertical-align: top;\n",
       "    }\n",
       "\n",
       "    .dataframe thead th {\n",
       "        text-align: right;\n",
       "    }\n",
       "</style>\n",
       "<table border=\"1\" class=\"dataframe\">\n",
       "  <thead>\n",
       "    <tr style=\"text-align: right;\">\n",
       "      <th></th>\n",
       "      <th>Sepal.Length</th>\n",
       "      <th>Sepal.Width</th>\n",
       "      <th>Petal.Length</th>\n",
       "      <th>Petal.Width</th>\n",
       "    </tr>\n",
       "  </thead>\n",
       "  <tbody>\n",
       "    <tr>\n",
       "      <th>1</th>\n",
       "      <td>0.0</td>\n",
       "      <td>0.0</td>\n",
       "      <td>0.0</td>\n",
       "      <td>0.0</td>\n",
       "    </tr>\n",
       "    <tr>\n",
       "      <th>2</th>\n",
       "      <td>0.0</td>\n",
       "      <td>0.0</td>\n",
       "      <td>0.0</td>\n",
       "      <td>0.0</td>\n",
       "    </tr>\n",
       "    <tr>\n",
       "      <th>3</th>\n",
       "      <td>0.0</td>\n",
       "      <td>0.0</td>\n",
       "      <td>0.0</td>\n",
       "      <td>0.0</td>\n",
       "    </tr>\n",
       "    <tr>\n",
       "      <th>4</th>\n",
       "      <td>0.0</td>\n",
       "      <td>0.0</td>\n",
       "      <td>0.0</td>\n",
       "      <td>0.0</td>\n",
       "    </tr>\n",
       "    <tr>\n",
       "      <th>5</th>\n",
       "      <td>0.0</td>\n",
       "      <td>0.0</td>\n",
       "      <td>0.0</td>\n",
       "      <td>0.0</td>\n",
       "    </tr>\n",
       "  </tbody>\n",
       "</table>\n",
       "</div>"
      ],
      "text/plain": [
       "   Sepal.Length  Sepal.Width  Petal.Length  Petal.Width\n",
       "1           0.0          0.0           0.0          0.0\n",
       "2           0.0          0.0           0.0          0.0\n",
       "3           0.0          0.0           0.0          0.0\n",
       "4           0.0          0.0           0.0          0.0\n",
       "5           0.0          0.0           0.0          0.0"
      ]
     },
     "execution_count": 102,
     "metadata": {},
     "output_type": "execute_result"
    }
   ],
   "source": [
    "##### Python #####\n",
    "M = iris.iloc[:, range(4)]\n",
    "M.loc[:,:] = 0\n",
    "M.head()"
   ]
  },
  {
   "cell_type": "markdown",
   "metadata": {},
   "source": [
    "###  <a name=\"SetZero\"></a>Replace M with the value 0.\n",
    "[[Back to Outline]](#Outline)"
   ]
  },
  {
   "cell_type": "code",
   "execution_count": 103,
   "metadata": {},
   "outputs": [
    {
     "data": {
      "text/plain": [
       "[1] 0\n"
      ]
     },
     "metadata": {},
     "output_type": "display_data"
    }
   ],
   "source": [
    "%%R\n",
    "M <- 0\n",
    "print(M)"
   ]
  },
  {
   "cell_type": "code",
   "execution_count": 104,
   "metadata": {},
   "outputs": [
    {
     "name": "stdout",
     "output_type": "stream",
     "text": [
      "0\n"
     ]
    }
   ],
   "source": [
    "##### Python #####\n",
    "M = 0\n",
    "print(M)"
   ]
  },
  {
   "cell_type": "markdown",
   "metadata": {},
   "source": [
    "###  <a name=\"Factor_vs_Vector\"></a>Select the Species column from iris as a dataframe and then as a factor, storing the factor in a variable 'v'. Convert the column to a vector and store it in a variable 'w'. What is the difference between w and v?\n",
    "[[Back to Outline]](#Outline)"
   ]
  },
  {
   "cell_type": "code",
   "execution_count": 106,
   "metadata": {},
   "outputs": [
    {
     "data": {
      "text/plain": [
       "  Species\n",
       "1  setosa\n",
       "2  setosa\n",
       "3  setosa\n",
       "4  setosa\n",
       "5  setosa\n",
       "6  setosa\n"
      ]
     },
     "metadata": {},
     "output_type": "display_data"
    }
   ],
   "source": [
    "%%R\n",
    "# select Species as a dataframe\n",
    "head(iris[, \"Species\", drop = FALSE])"
   ]
  },
  {
   "cell_type": "code",
   "execution_count": 107,
   "metadata": {},
   "outputs": [
    {
     "data": {
      "text/plain": [
       "[1] setosa setosa setosa setosa setosa setosa\n",
       "Levels: setosa versicolor virginica\n"
      ]
     },
     "metadata": {},
     "output_type": "display_data"
    }
   ],
   "source": [
    "%%R\n",
    "# select Species as a factor\n",
    "head(iris$Species)"
   ]
  },
  {
   "cell_type": "code",
   "execution_count": 115,
   "metadata": {},
   "outputs": [
    {
     "data": {
      "text/plain": [
       "1st difference: vector does not contain levels\n",
       "[1] \"setosa\"     \"versicolor\" \"virginica\" \n",
       "NULL\n",
       "===================================\n",
       "2nd difference: factor stores 1,2,... to specify elements in level\n",
       " Factor w/ 3 levels \"setosa\",\"versicolor\",..: 1 1 1 1 1 1 1 1 1 1 ...\n",
       " chr [1:150] \"setosa\" \"setosa\" \"setosa\" \"setosa\" \"setosa\" \"setosa\" \"setosa\" ...\n"
      ]
     },
     "metadata": {},
     "output_type": "display_data"
    }
   ],
   "source": [
    "%%R\n",
    "# storing the factor in a variable 'v'. \n",
    "# Convert the column to a vector and store it in a variable 'w'. \n",
    "# What is the difference between w and v?\n",
    "v <- iris$Species\n",
    "w <- as.vector(iris$Species)\n",
    "\n",
    "# Differences between factor and vector\n",
    "cat(\"1st difference: vector does not contain levels\\n\")\n",
    "print(levels(v))\n",
    "print(levels(w))\n",
    "cat(\"===================================\\n\")\n",
    "cat(\"2nd difference: factor stores 1,2,... to specify elements in level\\n\")\n",
    "str(v)\n",
    "str(w)"
   ]
  },
  {
   "cell_type": "code",
   "execution_count": 132,
   "metadata": {},
   "outputs": [
    {
     "name": "stdout",
     "output_type": "stream",
     "text": [
      "===== Data Type =====\n",
      "<class 'pandas.core.series.Series'>\n",
      "\n",
      "===== Describe =====\n",
      "count           150\n",
      "unique            3\n",
      "top       virginica\n",
      "freq             50\n",
      "Name: Species, dtype: object\n",
      "\n",
      "===== Values =====\n",
      "1    setosa\n",
      "2    setosa\n",
      "3    setosa\n",
      "4    setosa\n",
      "5    setosa\n",
      "Name: Species, dtype: category\n",
      "Categories (3, object): [setosa, versicolor, virginica]\n"
     ]
    }
   ],
   "source": [
    "##### Python #####\n",
    "v = iris[\"Species\"].astype(\"category\")\n",
    "print(\"===== Data Type =====\")\n",
    "print(type(v))\n",
    "print(\"\\n===== Categories =====\")\n",
    "print(v.categories)\n",
    "print(\"\\n===== Describe =====\")\n",
    "print(v.describe())\n",
    "print(\"\\n===== Values =====\")\n",
    "print(v.head())"
   ]
  },
  {
   "cell_type": "code",
   "execution_count": 159,
   "metadata": {},
   "outputs": [
    {
     "name": "stdout",
     "output_type": "stream",
     "text": [
      "===== Data Type =====\n",
      "<class 'pandas.core.categorical.Categorical'>\n",
      "\n",
      "===== Levels =====\n",
      "Index(['setosa', 'versicolor', 'virginica'], dtype='object')\n",
      "\n",
      "===== Describe =====\n",
      "            counts     freqs\n",
      "categories                  \n",
      "setosa          50  0.333333\n",
      "versicolor      50  0.333333\n",
      "virginica       50  0.333333\n",
      "\n",
      "===== Values =====\n",
      "[setosa, setosa, setosa, setosa, setosa, ..., virginica, virginica, virginica, virginica, virginica]\n",
      "Length: 150\n",
      "Categories (3, object): [setosa, versicolor, virginica]\n"
     ]
    }
   ],
   "source": [
    "##### Python #####\n",
    "v = pd.Categorical(v)\n",
    "print(\"===== Data Type =====\")\n",
    "print(type(v))\n",
    "print(\"\\n===== Categories =====\")\n",
    "print(v.categories)\n",
    "print(\"\\n===== Describe =====\")\n",
    "print(v.describe())\n",
    "print(\"\\n===== Values =====\")\n",
    "print(v)"
   ]
  },
  {
   "cell_type": "code",
   "execution_count": 134,
   "metadata": {},
   "outputs": [
    {
     "name": "stdout",
     "output_type": "stream",
     "text": [
      "===== Data Type =====\n",
      "<class 'pandas.core.series.Series'>\n",
      "\n",
      "===== Describe =====\n",
      "count           150\n",
      "unique            3\n",
      "top       virginica\n",
      "freq             50\n",
      "Name: Species, dtype: object\n",
      "\n",
      "===== Values =====\n",
      "1    setosa\n",
      "2    setosa\n",
      "3    setosa\n",
      "4    setosa\n",
      "5    setosa\n",
      "Name: Species, dtype: object\n"
     ]
    }
   ],
   "source": [
    "##### Python #####\n",
    "w = iris[\"Species\"]\n",
    "print(\"===== Data Type =====\")\n",
    "print(type(w))\n",
    "print(\"\\n===== Describe =====\")\n",
    "print(w.describe())\n",
    "print(\"\\n===== Values =====\")\n",
    "print(w.head())"
   ]
  },
  {
   "cell_type": "code",
   "execution_count": 185,
   "metadata": {},
   "outputs": [
    {
     "name": "stdout",
     "output_type": "stream",
     "text": [
      "[0 0 0 0 0 0 0 0 0 0 0 0 0 0 0 0 0 0 0 0 0 0 0 0 0 0 0 0 0 0 0 0 0 0 0 0 0\n",
      " 0 0 0 0 0 0 0 0 0 0 0 0 0 1 1 1 1 1 1 1 1 1 1 1 1 1 1 1 1 1 1 1 1 1 1 1 1\n",
      " 1 1 1 1 1 1 1 1 1 1 1 1 1 1 1 1 1 1 1 1 1 1 1 1 1 1 2 2 2 2 2 2 2 2 2 2 2\n",
      " 2 2 2 2 2 2 2 2 2 2 2 2 2 2 2 2 2 2 2 2 2 2 2 2 2 2 2 2 2 2 2 2 2 2 2 2 2\n",
      " 2 2]\n",
      "=========================\n",
      "['setosa' 'setosa' 'setosa' 'setosa' 'setosa' 'setosa']\n",
      "=========================\n",
      "setosa        50\n",
      "versicolor    50\n",
      "virginica     50\n",
      "dtype: int64\n"
     ]
    }
   ],
   "source": [
    "##### More about Python Category ######\n",
    "v = pd.Categorical(iris[\"Species\"])\n",
    "print(v.codes)\n",
    "print(\"=========================\")\n",
    "print(v.get_values()[0:6])\n",
    "print(\"=========================\")\n",
    "print(v.value_counts())"
   ]
  },
  {
   "cell_type": "markdown",
   "metadata": {},
   "source": [
    "###  <a name=\"AddElement\"></a>For 'v' and 'w' above, try to add an element 'newspecies'. Describe what R did.\n",
    "[[Back to Outline]](#Outline)"
   ]
  },
  {
   "cell_type": "code",
   "execution_count": 141,
   "metadata": {},
   "outputs": [
    {
     "data": {
      "text/plain": [
       "===== Factor =====\n",
       "[1] newspecies setosa     setosa     setosa     setosa     setosa    \n",
       "Levels: newspecies setosa versicolor virginica\n",
       "\n",
       "===== Vector =====\n",
       "[1] \"newspecies\" \"setosa\"     \"setosa\"     \"setosa\"     \"setosa\"    \n",
       "[6] \"setosa\"    \n"
      ]
     },
     "metadata": {},
     "output_type": "display_data"
    }
   ],
   "source": [
    "%%R\n",
    "# initialization\n",
    "v <- iris$Species\n",
    "w <- as.vector(iris$Species)\n",
    "\n",
    "# Add newspecies into a factor\n",
    "v2 <- unlist(list(factor(\"newspecies\"), v), use.names=FALSE)\n",
    "\n",
    "# Add newspecies into a vector\n",
    "w2 <- c(\"newspecies\", w)\n",
    "\n",
    "cat(\"===== Factor =====\\n\")\n",
    "print(head(v2))\n",
    "cat(\"\\n===== Vector =====\\n\")\n",
    "print(head(w2))"
   ]
  },
  {
   "cell_type": "code",
   "execution_count": 178,
   "metadata": {
    "collapsed": true
   },
   "outputs": [],
   "source": [
    "##### Python #####\n",
    "v = pd.Categorical(iris[\"Species\"])\n",
    "w = iris[\"Species\"]"
   ]
  },
  {
   "cell_type": "code",
   "execution_count": 186,
   "metadata": {},
   "outputs": [
    {
     "data": {
      "text/plain": [
       "147    virginica\n",
       "148    virginica\n",
       "149    virginica\n",
       "150    virginica\n",
       "0              x\n",
       "dtype: object"
      ]
     },
     "execution_count": 186,
     "metadata": {},
     "output_type": "execute_result"
    }
   ],
   "source": [
    "w2 = w.append(pd.Series(\"x\"))\n",
    "w2.tail()"
   ]
  },
  {
   "cell_type": "markdown",
   "metadata": {},
   "source": [
    "Here I do not know how to append elements into pandas Categorical."
   ]
  },
  {
   "cell_type": "markdown",
   "metadata": {},
   "source": [
    "###  <a name=\"AddColumn\"></a>Add a column to iris that has the value of sepal width/sepal length and name it 'Sepal.Ratio'\n",
    "[[Back to Outline]](#Outline)"
   ]
  },
  {
   "cell_type": "code",
   "execution_count": 187,
   "metadata": {},
   "outputs": [
    {
     "data": {
      "text/plain": [
       "  Sepal.Length Sepal.Width Petal.Length Petal.Width Species Sepal.Ratio\n",
       "1          5.1         3.5          1.4         0.2  setosa   0.6862745\n",
       "2          4.9         3.0          1.4         0.2  setosa   0.6122449\n",
       "3          4.7         3.2          1.3         0.2  setosa   0.6808511\n",
       "4          4.6         3.1          1.5         0.2  setosa   0.6739130\n",
       "5          5.0         3.6          1.4         0.2  setosa   0.7200000\n",
       "6          5.4         3.9          1.7         0.4  setosa   0.7222222\n"
      ]
     },
     "metadata": {},
     "output_type": "display_data"
    }
   ],
   "source": [
    "%%R\n",
    "data(iris)\n",
    "iris$Sepal.Ratio <- iris$Sepal.Width / iris$Sepal.Length\n",
    "head(iris)"
   ]
  },
  {
   "cell_type": "code",
   "execution_count": 190,
   "metadata": {},
   "outputs": [
    {
     "data": {
      "text/html": [
       "<div>\n",
       "<style scoped>\n",
       "    .dataframe tbody tr th:only-of-type {\n",
       "        vertical-align: middle;\n",
       "    }\n",
       "\n",
       "    .dataframe tbody tr th {\n",
       "        vertical-align: top;\n",
       "    }\n",
       "\n",
       "    .dataframe thead th {\n",
       "        text-align: right;\n",
       "    }\n",
       "</style>\n",
       "<table border=\"1\" class=\"dataframe\">\n",
       "  <thead>\n",
       "    <tr style=\"text-align: right;\">\n",
       "      <th></th>\n",
       "      <th>Sepal.Length</th>\n",
       "      <th>Sepal.Width</th>\n",
       "      <th>Petal.Length</th>\n",
       "      <th>Petal.Width</th>\n",
       "      <th>Species</th>\n",
       "      <th>Sepal.Ratio</th>\n",
       "    </tr>\n",
       "  </thead>\n",
       "  <tbody>\n",
       "    <tr>\n",
       "      <th>1</th>\n",
       "      <td>5.1</td>\n",
       "      <td>3.5</td>\n",
       "      <td>1.4</td>\n",
       "      <td>0.2</td>\n",
       "      <td>setosa</td>\n",
       "      <td>0.686275</td>\n",
       "    </tr>\n",
       "    <tr>\n",
       "      <th>2</th>\n",
       "      <td>4.9</td>\n",
       "      <td>3.0</td>\n",
       "      <td>1.4</td>\n",
       "      <td>0.2</td>\n",
       "      <td>setosa</td>\n",
       "      <td>0.612245</td>\n",
       "    </tr>\n",
       "    <tr>\n",
       "      <th>3</th>\n",
       "      <td>4.7</td>\n",
       "      <td>3.2</td>\n",
       "      <td>1.3</td>\n",
       "      <td>0.2</td>\n",
       "      <td>setosa</td>\n",
       "      <td>0.680851</td>\n",
       "    </tr>\n",
       "    <tr>\n",
       "      <th>4</th>\n",
       "      <td>4.6</td>\n",
       "      <td>3.1</td>\n",
       "      <td>1.5</td>\n",
       "      <td>0.2</td>\n",
       "      <td>setosa</td>\n",
       "      <td>0.673913</td>\n",
       "    </tr>\n",
       "    <tr>\n",
       "      <th>5</th>\n",
       "      <td>5.0</td>\n",
       "      <td>3.6</td>\n",
       "      <td>1.4</td>\n",
       "      <td>0.2</td>\n",
       "      <td>setosa</td>\n",
       "      <td>0.720000</td>\n",
       "    </tr>\n",
       "  </tbody>\n",
       "</table>\n",
       "</div>"
      ],
      "text/plain": [
       "   Sepal.Length  Sepal.Width  Petal.Length  Petal.Width Species  Sepal.Ratio\n",
       "1           5.1          3.5           1.4          0.2  setosa     0.686275\n",
       "2           4.9          3.0           1.4          0.2  setosa     0.612245\n",
       "3           4.7          3.2           1.3          0.2  setosa     0.680851\n",
       "4           4.6          3.1           1.5          0.2  setosa     0.673913\n",
       "5           5.0          3.6           1.4          0.2  setosa     0.720000"
      ]
     },
     "execution_count": 190,
     "metadata": {},
     "output_type": "execute_result"
    }
   ],
   "source": [
    "##### Python #####\n",
    "iris = %R iris\n",
    "iris[\"Sepal.Ratio\"] = iris[\"Sepal.Width\"] / iris[\"Sepal.Length\"]\n",
    "iris.head()"
   ]
  }
 ],
 "metadata": {
  "kernelspec": {
   "display_name": "Python 3",
   "language": "python",
   "name": "python3"
  },
  "language_info": {
   "codemirror_mode": {
    "name": "ipython",
    "version": 3
   },
   "file_extension": ".py",
   "mimetype": "text/x-python",
   "name": "python",
   "nbconvert_exporter": "python",
   "pygments_lexer": "ipython3",
   "version": "3.6.1"
  }
 },
 "nbformat": 4,
 "nbformat_minor": 2
}
