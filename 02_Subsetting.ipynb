{
 "cells": [
  {
   "cell_type": "markdown",
   "metadata": {},
   "source": [
    "Here I compare the subsetting of Numpy and Base r"
   ]
  },
  {
   "cell_type": "code",
   "execution_count": 4,
   "metadata": {},
   "outputs": [
    {
     "name": "stdout",
     "output_type": "stream",
     "text": [
      "The rpy2.ipython extension is already loaded. To reload it, use:\n",
      "  %reload_ext rpy2.ipython\n"
     ]
    }
   ],
   "source": [
    "import numpy as np\n",
    "import numpy.random as rand\n",
    "\n",
    "%load_ext rpy2.ipython"
   ]
  },
  {
   "cell_type": "markdown",
   "metadata": {},
   "source": [
    "# subset of vector"
   ]
  },
  {
   "cell_type": "markdown",
   "metadata": {},
   "source": [
    "First generate 20 numbers from standard normal distribution"
   ]
  },
  {
   "cell_type": "code",
   "execution_count": 5,
   "metadata": {},
   "outputs": [
    {
     "data": {
      "text/plain": [
       " [1] -1.45657316  0.70912795  0.14633641 -0.96819842  0.07366553 -0.23428949\n",
       " [7] -0.38753825  0.11847186 -0.08541179 -0.67781977\n"
      ]
     },
     "metadata": {},
     "output_type": "display_data"
    }
   ],
   "source": [
    "%%R\n",
    "x <- rnorm(10)\n",
    "print(x)"
   ]
  },
  {
   "cell_type": "code",
   "execution_count": 8,
   "metadata": {},
   "outputs": [
    {
     "name": "stdout",
     "output_type": "stream",
     "text": [
      "[-0.24265364  1.16924064  0.37838154 -0.87883634 -0.7856068  -1.02531119\n",
      "  0.1786645   1.127267    0.55828736 -1.79406442]\n"
     ]
    }
   ],
   "source": [
    "##### Python #####\n",
    "x = rand.normal(size=10)\n",
    "print(x)"
   ]
  },
  {
   "cell_type": "markdown",
   "metadata": {},
   "source": [
    "simple subsetting"
   ]
  },
  {
   "cell_type": "code",
   "execution_count": 11,
   "metadata": {},
   "outputs": [
    {
     "data": {
      "text/plain": [
       "[1]  0.7091279  0.1463364 -0.9681984\n",
       "[1] -1.4565732 -0.9681984 -0.3875382 -0.6778198\n",
       "[1] -1.45657316 -0.96819842 -0.23428949 -0.38753825 -0.08541179 -0.67781977\n",
       "[1] -1.45657316 -0.96819842 -0.23428949 -0.38753825 -0.08541179 -0.67781977\n"
      ]
     },
     "metadata": {},
     "output_type": "display_data"
    }
   ],
   "source": [
    "%%R\n",
    "print(x[2:4])\n",
    "print(x[seq(from = 1, to = length(x), by = 3)])\n",
    "print(x[x < 0])\n",
    "print(x[which(x < 0)])"
   ]
  },
  {
   "cell_type": "code",
   "execution_count": 12,
   "metadata": {},
   "outputs": [
    {
     "name": "stdout",
     "output_type": "stream",
     "text": [
      "[ 1.16924064  0.37838154 -0.87883634 -0.7856068 ]\n",
      "[ 1.16924064 -0.7856068   1.127267  ]\n",
      "[-0.24265364 -0.87883634 -0.7856068  -1.02531119 -1.79406442]\n",
      "[-0.24265364 -0.87883634 -0.7856068  -1.02531119 -1.79406442]\n"
     ]
    }
   ],
   "source": [
    "##### Python #####\n",
    "print(x[1:5])\n",
    "print(x[1::3])\n",
    "print(x[x<0])\n",
    "print(x[np.where(x<0)])"
   ]
  },
  {
   "cell_type": "markdown",
   "metadata": {},
   "source": [
    "# subset of matrix"
   ]
  },
  {
   "cell_type": "markdown",
   "metadata": {},
   "source": [
    "First, create a 4 by 6 matrix"
   ]
  },
  {
   "cell_type": "code",
   "execution_count": 14,
   "metadata": {},
   "outputs": [
    {
     "data": {
      "text/plain": [
       "           [,1]       [,2]       [,3]        [,4]       [,5]       [,6]\n",
       "[1,] -0.1838415 -1.5361920 -0.9835689 -0.01015682  0.1220143 -0.7991400\n",
       "[2,] -0.4933036 -0.7881019  0.7529150 -0.51367463  0.9793835  1.1461285\n",
       "[3,]  1.4407869  0.9021991 -1.2138188 -0.02656989  0.9683008  1.8976368\n",
       "[4,]  0.4200226  0.6918381 -1.1158480  1.14928642 -1.1670505 -0.6647891\n"
      ]
     },
     "metadata": {},
     "output_type": "display_data"
    }
   ],
   "source": [
    "%%R\n",
    "mat <- matrix(rnorm(4*6), nrow=4, ncol=6)\n",
    "#mat <- matrix(rnorm(4*6), nrow=4)\n",
    "print(mat)"
   ]
  },
  {
   "cell_type": "code",
   "execution_count": 15,
   "metadata": {},
   "outputs": [
    {
     "name": "stdout",
     "output_type": "stream",
     "text": [
      "[[ 0.8913369   0.43987957  2.15679201 -1.00972589 -0.40415706  0.14154288]\n",
      " [-0.34936218  0.04113661  0.73440866  0.16278888 -0.6176729   0.27546497]\n",
      " [ 1.05656669 -1.1212385  -1.03610212 -0.43033346 -0.16630389  0.79120501]\n",
      " [ 0.16405219  0.33430046 -0.34700156  0.85263504  0.49395786 -0.93621751]]\n"
     ]
    }
   ],
   "source": [
    "##### Python #####\n",
    "mat = np.array(np.random.normal(size=4*6)).reshape(4,6)\n",
    "#mat = np.array(np.random.normal(size=4*6)).reshape(4,-1)\n",
    "print(mat)"
   ]
  },
  {
   "cell_type": "code",
   "execution_count": 19,
   "metadata": {},
   "outputs": [
    {
     "data": {
      "text/plain": [
       "The orignal matrix\n",
       "           [,1]       [,2]       [,3]        [,4]       [,5]       [,6]\n",
       "[1,] -0.1838415 -1.5361920 -0.9835689 -0.01015682  0.1220143 -0.7991400\n",
       "[2,] -0.4933036 -0.7881019  0.7529150 -0.51367463  0.9793835  1.1461285\n",
       "[3,]  1.4407869  0.9021991 -1.2138188 -0.02656989  0.9683008  1.8976368\n",
       "[4,]  0.4200226  0.6918381 -1.1158480  1.14928642 -1.1670505 -0.6647891\n",
       "\n",
       "===============\n",
       "The first row\n",
       "[1] -0.18384151 -1.53619205 -0.98356891 -0.01015682  0.12201432 -0.79913998\n",
       "\n",
       "===============\n",
       "The first row (Drop=False)\n",
       "           [,1]      [,2]       [,3]        [,4]      [,5]     [,6]\n",
       "[1,] -0.1838415 -1.536192 -0.9835689 -0.01015682 0.1220143 -0.79914\n",
       "\n",
       "===============\n",
       "The first column\n",
       "[1] -0.1838415 -0.4933036  1.4407869  0.4200226\n",
       "\n",
       "===============\n",
       "The first column (Drop=False)\n",
       "           [,1]\n",
       "[1,] -0.1838415\n",
       "[2,] -0.4933036\n",
       "[3,]  1.4407869\n",
       "[4,]  0.4200226\n"
      ]
     },
     "metadata": {},
     "output_type": "display_data"
    }
   ],
   "source": [
    "%%R\n",
    "cat(\"The orignal matrix\\n\")\n",
    "print(mat)\n",
    "cat(\"\\n===============\\n\")\n",
    "cat(\"The first row\\n\")\n",
    "print(mat[1,])\n",
    "cat(\"\\n===============\\n\")\n",
    "cat(\"The first row (Drop=False)\\n\")\n",
    "print(mat[1,,drop=FALSE])\n",
    "cat(\"\\n===============\\n\")\n",
    "cat(\"The first column\\n\")\n",
    "print(mat[,1])\n",
    "cat(\"\\n===============\\n\")\n",
    "cat(\"The first column (Drop=False)\\n\")\n",
    "print(mat[,1,drop=FALSE])"
   ]
  },
  {
   "cell_type": "code",
   "execution_count": 23,
   "metadata": {},
   "outputs": [
    {
     "name": "stdout",
     "output_type": "stream",
     "text": [
      "The orignal matrix\n",
      "[[ 0.8913369   0.43987957  2.15679201 -1.00972589 -0.40415706  0.14154288]\n",
      " [-0.34936218  0.04113661  0.73440866  0.16278888 -0.6176729   0.27546497]\n",
      " [ 1.05656669 -1.1212385  -1.03610212 -0.43033346 -0.16630389  0.79120501]\n",
      " [ 0.16405219  0.33430046 -0.34700156  0.85263504  0.49395786 -0.93621751]]\n",
      "\n",
      "===============\n",
      "The first row\n",
      "[-0.34936218  0.04113661  0.73440866  0.16278888 -0.6176729   0.27546497]\n",
      "\n",
      "===============\n",
      "The first row (Drop=False)\n",
      "[[ 0.8913369   0.43987957  2.15679201 -1.00972589 -0.40415706  0.14154288]]\n",
      "\n",
      "===============\n",
      "The first column\n",
      "[ 0.43987957  0.04113661 -1.1212385   0.33430046]\n",
      "\n",
      "===============\n",
      "The first column (Drop=False)\n",
      "[[ 0.8913369 ]\n",
      " [-0.34936218]\n",
      " [ 1.05656669]\n",
      " [ 0.16405219]]\n"
     ]
    }
   ],
   "source": [
    "##### Python #####\n",
    "print(\"The orignal matrix\")\n",
    "print(mat)\n",
    "print(\"\\n===============\")\n",
    "print(\"The first row\")\n",
    "print(mat[1,:])\n",
    "print(\"\\n===============\")\n",
    "print(\"The first row (Drop=False)\")\n",
    "print(mat[0,:].reshape(1,-1))\n",
    "print(\"\\n===============\")\n",
    "print(\"The first column\")\n",
    "print(mat[:,1])\n",
    "print(\"\\n===============\")\n",
    "print(\"The first column (Drop=False)\")\n",
    "print(mat[:,0].reshape(-1,1))"
   ]
  }
 ],
 "metadata": {
  "kernelspec": {
   "display_name": "Python 3",
   "language": "python",
   "name": "python3"
  },
  "language_info": {
   "codemirror_mode": {
    "name": "ipython",
    "version": 3
   },
   "file_extension": ".py",
   "mimetype": "text/x-python",
   "name": "python",
   "nbconvert_exporter": "python",
   "pygments_lexer": "ipython3",
   "version": "3.6.1"
  }
 },
 "nbformat": 4,
 "nbformat_minor": 2
}
