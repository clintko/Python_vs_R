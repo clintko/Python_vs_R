{
 "cells": [
  {
   "cell_type": "markdown",
   "metadata": {},
   "source": [
    "Common data structures used in Python and R\n",
    "\n",
    "**Python**\n",
    "- Primitive Data Structures\n",
    "    - Integer\n",
    "    - Float\n",
    "    - String\n",
    "    - Boolean\n",
    "- Non-Primitive Data Structures\n",
    "    - List & Tuple\n",
    "    - Dictionary\n",
    "    - Set\n",
    "    - File\n",
    "- [Numpy](https://docs.scipy.org/doc/numpy-1.13.0/user/basics.types.html)\n",
    "    - int32, int64\n",
    "    - float32, float64\n",
    "    - array\n",
    "- Pandas\n",
    "    - Series\n",
    "    - DataFrame\n",
    "    \n",
    "**R**\n",
    "- Vector\n",
    "    - atomic vector\n",
    "    - list\n",
    "    - factor\n",
    "- Matrix\n",
    "- List\n",
    "- Data.Frame\n",
    "- Tibble (a more general data frame)"
   ]
  },
  {
   "cell_type": "code",
   "execution_count": 1,
   "metadata": {
    "collapsed": true
   },
   "outputs": [],
   "source": [
    "import numpy as np\n",
    "\n",
    "%load_ext rpy2.ipython"
   ]
  },
  {
   "cell_type": "markdown",
   "metadata": {},
   "source": [
    "Question: Create a sequence of integers"
   ]
  },
  {
   "cell_type": "code",
   "execution_count": 2,
   "metadata": {},
   "outputs": [
    {
     "data": {
      "text/plain": [
       "[1] 1 2 3\n",
       "[1] 1 2 3\n",
       "[1] 1 2 3\n"
      ]
     },
     "metadata": {},
     "output_type": "display_data"
    }
   ],
   "source": [
    "%%R\n",
    "# Atomic Vector\n",
    "x <- c(1,2,3)\n",
    "y <- 1:3\n",
    "z <- seq(from=1, to=3, by=1)\n",
    "\n",
    "print(x)\n",
    "print(y)\n",
    "print(z)"
   ]
  },
  {
   "cell_type": "code",
   "execution_count": 3,
   "metadata": {},
   "outputs": [
    {
     "name": "stdout",
     "output_type": "stream",
     "text": [
      "[1, 2, 3]\n",
      "[0, 1, 2]\n",
      "[1 2 3]\n",
      "[1 2 3]\n",
      "[1 2 3]\n"
     ]
    }
   ],
   "source": [
    "##### Python #####\n",
    "x1 = [1,2,3]\n",
    "x2 = list(range(3))\n",
    "y1 = np.r_[1, 2, 3]\n",
    "y2 = np.array([1, 2, 3])\n",
    "z  = np.arange(1, 3+1, 1)\n",
    "\n",
    "print(x1)\n",
    "print(x2)\n",
    "print(y1)\n",
    "print(y2)\n",
    "print(z)"
   ]
  },
  {
   "cell_type": "markdown",
   "metadata": {},
   "source": [
    "Question: Create an 3 by 3 identical matrix"
   ]
  },
  {
   "cell_type": "code",
   "execution_count": 5,
   "metadata": {},
   "outputs": [
    {
     "data": {
      "text/plain": [
       "     [,1] [,2] [,3]\n",
       "[1,]    1    0    0\n",
       "[2,]    0    1    0\n",
       "[3,]    0    0    1\n",
       "[1] \"====================\"\n",
       "     [,1] [,2] [,3]\n",
       "[1,]    1    0    0\n",
       "[2,]    0    1    0\n",
       "[3,]    0    0    1\n"
      ]
     },
     "metadata": {},
     "output_type": "display_data"
    }
   ],
   "source": [
    "%%R\n",
    "eye3 <- matrix(c(1,0,0,0,1,0,0,0,1), nrow=3, ncol=3)\n",
    "print(eye3)\n",
    "\n",
    "print(\"====================\")\n",
    "\n",
    "eye3 <- diag(c(1, 1, 1))\n",
    "print(eye3)"
   ]
  },
  {
   "cell_type": "code",
   "execution_count": 6,
   "metadata": {},
   "outputs": [
    {
     "name": "stdout",
     "output_type": "stream",
     "text": [
      "[[1 0 0]\n",
      " [0 1 0]\n",
      " [0 0 1]]\n",
      "==================\n",
      "[[1 0 0]\n",
      " [0 1 0]\n",
      " [0 0 1]]\n",
      "==================\n",
      "[[1 0 0]\n",
      " [0 1 0]\n",
      " [0 0 1]]\n"
     ]
    }
   ],
   "source": [
    "##### Python #####\n",
    "eye3 = np.array([1,0,0,0,1,0,0,0,1]).reshape(3,3) # or .reshape(3,-1)\n",
    "print(eye3)\n",
    "\n",
    "print(\"==================\")\n",
    "\n",
    "eye3 = np.diag([1,1,1])\n",
    "print(eye3)\n",
    "\n",
    "print(\"==================\")\n",
    "\n",
    "eye3 = np.eye(3, dtype=np.int)\n",
    "print(eye3) "
   ]
  },
  {
   "cell_type": "code",
   "execution_count": null,
   "metadata": {
    "collapsed": true
   },
   "outputs": [],
   "source": []
  },
  {
   "cell_type": "code",
   "execution_count": null,
   "metadata": {
    "collapsed": true
   },
   "outputs": [],
   "source": []
  },
  {
   "cell_type": "code",
   "execution_count": null,
   "metadata": {
    "collapsed": true
   },
   "outputs": [],
   "source": []
  }
 ],
 "metadata": {
  "kernelspec": {
   "display_name": "Python 3",
   "language": "python",
   "name": "python3"
  },
  "language_info": {
   "codemirror_mode": {
    "name": "ipython",
    "version": 3
   },
   "file_extension": ".py",
   "mimetype": "text/x-python",
   "name": "python",
   "nbconvert_exporter": "python",
   "pygments_lexer": "ipython3",
   "version": "3.6.1"
  }
 },
 "nbformat": 4,
 "nbformat_minor": 2
}
